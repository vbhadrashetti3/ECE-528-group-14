{
 "cells": [
  {
   "cell_type": "code",
   "execution_count": null,
   "id": "11d7863a-4332-4a02-b745-31457f78f61a",
   "metadata": {
    "id": "11d7863a-4332-4a02-b745-31457f78f61a",
    "tags": []
   },
   "outputs": [],
   "source": [
    "import pandas as pd\n",
    "import re\n",
    "import time\n",
    "import sys\n"
   ]
  },
  {
   "cell_type": "code",
   "execution_count": null,
   "id": "afefbae2-eb5b-4fcb-a7cf-95ae67a072fe",
   "metadata": {
    "id": "afefbae2-eb5b-4fcb-a7cf-95ae67a072fe",
    "tags": []
   },
   "outputs": [],
   "source": [
    "df_with_context = pd.read_csv(r\"/Users/vijaybhadrashetti/Downloads/final_dataset.csv\")"
   ]
  },
  {
   "cell_type": "code",
   "execution_count": null,
   "id": "0e55ff39-953f-4615-bf4e-c7aa190e1f58",
   "metadata": {
    "id": "0e55ff39-953f-4615-bf4e-c7aa190e1f58",
    "outputId": "55d72431-cac9-487c-b835-bde2a3948cec",
    "tags": []
   },
   "outputs": [
    {
     "data": {
      "text/html": [
       "<div>\n",
       "<style scoped>\n",
       "    .dataframe tbody tr th:only-of-type {\n",
       "        vertical-align: middle;\n",
       "    }\n",
       "\n",
       "    .dataframe tbody tr th {\n",
       "        vertical-align: top;\n",
       "    }\n",
       "\n",
       "    .dataframe thead th {\n",
       "        text-align: right;\n",
       "    }\n",
       "</style>\n",
       "<table border=\"1\" class=\"dataframe\">\n",
       "  <thead>\n",
       "    <tr style=\"text-align: right;\">\n",
       "      <th></th>\n",
       "      <th>Unnamed: 0.1</th>\n",
       "      <th>Unnamed: 0</th>\n",
       "      <th>questionText</th>\n",
       "      <th>topic</th>\n",
       "      <th>answerText</th>\n",
       "      <th>context</th>\n",
       "    </tr>\n",
       "  </thead>\n",
       "  <tbody>\n",
       "    <tr>\n",
       "      <th>0</th>\n",
       "      <td>0</td>\n",
       "      <td>0</td>\n",
       "      <td>I'm going through some things with my feelings...</td>\n",
       "      <td>depression</td>\n",
       "      <td>If everyone thinks you're worthless, then mayb...</td>\n",
       "      <td>- a friend, family member, or a mental health...</td>\n",
       "    </tr>\n",
       "    <tr>\n",
       "      <th>1</th>\n",
       "      <td>1</td>\n",
       "      <td>1</td>\n",
       "      <td>I'm going through some things with my feelings...</td>\n",
       "      <td>depression</td>\n",
       "      <td>Feelings of worthlessness is unfortunately co...</td>\n",
       "      <td>Consider talking to a therapist or counselor ...</td>\n",
       "    </tr>\n",
       "    <tr>\n",
       "      <th>2</th>\n",
       "      <td>2</td>\n",
       "      <td>2</td>\n",
       "      <td>I'm going through some things with my feelings...</td>\n",
       "      <td>depression</td>\n",
       "      <td>First thing I'd suggest is getting the sleep y...</td>\n",
       "      <td>I would suggest that you reach out to a menta...</td>\n",
       "    </tr>\n",
       "    <tr>\n",
       "      <th>3</th>\n",
       "      <td>3</td>\n",
       "      <td>3</td>\n",
       "      <td>I'm going through some things with my feelings...</td>\n",
       "      <td>depression</td>\n",
       "      <td>Therapy is essential for those that are feelin...</td>\n",
       "      <td>You can also talk to a therapist or a counsel...</td>\n",
       "    </tr>\n",
       "    <tr>\n",
       "      <th>4</th>\n",
       "      <td>4</td>\n",
       "      <td>4</td>\n",
       "      <td>I'm going through some things with my feelings...</td>\n",
       "      <td>depression</td>\n",
       "      <td>I first want to let you know that you are not ...</td>\n",
       "      <td>NaN</td>\n",
       "    </tr>\n",
       "  </tbody>\n",
       "</table>\n",
       "</div>"
      ],
      "text/plain": [
       "   Unnamed: 0.1  Unnamed: 0  \\\n",
       "0             0           0   \n",
       "1             1           1   \n",
       "2             2           2   \n",
       "3             3           3   \n",
       "4             4           4   \n",
       "\n",
       "                                        questionText       topic  \\\n",
       "0  I'm going through some things with my feelings...  depression   \n",
       "1  I'm going through some things with my feelings...  depression   \n",
       "2  I'm going through some things with my feelings...  depression   \n",
       "3  I'm going through some things with my feelings...  depression   \n",
       "4  I'm going through some things with my feelings...  depression   \n",
       "\n",
       "                                          answerText  \\\n",
       "0  If everyone thinks you're worthless, then mayb...   \n",
       "1   Feelings of worthlessness is unfortunately co...   \n",
       "2  First thing I'd suggest is getting the sleep y...   \n",
       "3  Therapy is essential for those that are feelin...   \n",
       "4  I first want to let you know that you are not ...   \n",
       "\n",
       "                                             context  \n",
       "0   - a friend, family member, or a mental health...  \n",
       "1   Consider talking to a therapist or counselor ...  \n",
       "2   I would suggest that you reach out to a menta...  \n",
       "3   You can also talk to a therapist or a counsel...  \n",
       "4                                                NaN  "
      ]
     },
     "execution_count": 6,
     "metadata": {},
     "output_type": "execute_result"
    }
   ],
   "source": [
    "df_with_context.head()"
   ]
  },
  {
   "cell_type": "code",
   "execution_count": null,
   "id": "13ae5619-547c-423a-947d-e1d8dba02fca",
   "metadata": {
    "id": "13ae5619-547c-423a-947d-e1d8dba02fca",
    "outputId": "03763278-f333-4378-b4ec-aa1345cb0799",
    "tags": []
   },
   "outputs": [
    {
     "name": "stdout",
     "output_type": "stream",
     "text": [
      "Empty DataFrame\n",
      "Columns: [Unnamed: 0.1, Unnamed: 0, questionText, topic, answerText, context]\n",
      "Index: []\n"
     ]
    }
   ],
   "source": [
    "# remove\n",
    "mask = df_with_context[['context']].apply(\n",
    "    lambda x: x.str.contains(\n",
    "        '^ +| +$\", r\"',\n",
    "        regex=False, flags=re.VERBOSE\n",
    "    )\n",
    ").any(axis=1)\n",
    "print(df_with_context[mask])"
   ]
  },
  {
   "cell_type": "code",
   "execution_count": null,
   "id": "87f1d113-bdb0-474c-900c-1e6e662bc4ec",
   "metadata": {
    "id": "87f1d113-bdb0-474c-900c-1e6e662bc4ec",
    "tags": []
   },
   "outputs": [],
   "source": [
    "df_with_context['context'] = df_with_context['context'].str.replace('.','', regex=False)\n",
    "df_with_context['context'] = df_with_context['context'].str.replace('Hi\\s\\w+,','', regex=True)\n",
    "df_with_context['context'] = df_with_context['context'].str.replace('^ +| +$\", r\",','', regex=True)"
   ]
  },
  {
   "cell_type": "code",
   "execution_count": null,
   "id": "d918fb6d-0eec-4dda-8797-e7980210a87c",
   "metadata": {
    "id": "d918fb6d-0eec-4dda-8797-e7980210a87c",
    "tags": []
   },
   "outputs": [],
   "source": [
    "#Export cleaned CSV\n",
    "df_with_context.to_csv(\"dataset_backup/final_dataset_with_context.csv\")"
   ]
  },
  {
   "cell_type": "markdown",
   "id": "594667c2-500a-4d3c-b24a-5dcd2822bbd3",
   "metadata": {
    "id": "594667c2-500a-4d3c-b24a-5dcd2822bbd3"
   },
   "source": [
    "## Filling blank context values"
   ]
  },
  {
   "cell_type": "code",
   "execution_count": null,
   "id": "16e2d24c-4f67-4100-8c14-3ee5ca11cb01",
   "metadata": {
    "id": "16e2d24c-4f67-4100-8c14-3ee5ca11cb01",
    "tags": []
   },
   "outputs": [],
   "source": [
    "df_with_blank_context = pd.read_csv(r\"/Users/vijaybhadrashetti/Downloads/final_dataset_with_context.csv\")"
   ]
  },
  {
   "cell_type": "code",
   "execution_count": null,
   "id": "2168fe14-22af-4ffa-a6d0-70e6ce3cb185",
   "metadata": {
    "id": "2168fe14-22af-4ffa-a6d0-70e6ce3cb185",
    "outputId": "59ebbb68-6ebd-4966-ecde-4dc6b118faba",
    "tags": []
   },
   "outputs": [
    {
     "data": {
      "text/html": [
       "<div>\n",
       "<style scoped>\n",
       "    .dataframe tbody tr th:only-of-type {\n",
       "        vertical-align: middle;\n",
       "    }\n",
       "\n",
       "    .dataframe tbody tr th {\n",
       "        vertical-align: top;\n",
       "    }\n",
       "\n",
       "    .dataframe thead th {\n",
       "        text-align: right;\n",
       "    }\n",
       "</style>\n",
       "<table border=\"1\" class=\"dataframe\">\n",
       "  <thead>\n",
       "    <tr style=\"text-align: right;\">\n",
       "      <th></th>\n",
       "      <th>questionText</th>\n",
       "      <th>topic</th>\n",
       "      <th>answerText</th>\n",
       "      <th>context</th>\n",
       "    </tr>\n",
       "  </thead>\n",
       "  <tbody>\n",
       "    <tr>\n",
       "      <th>0</th>\n",
       "      <td>I'm going through some things with my feelings...</td>\n",
       "      <td>depression</td>\n",
       "      <td>If everyone thinks you're worthless, then mayb...</td>\n",
       "      <td>- a friend, family member, or a mental health ...</td>\n",
       "    </tr>\n",
       "    <tr>\n",
       "      <th>1</th>\n",
       "      <td>I'm going through some things with my feelings...</td>\n",
       "      <td>depression</td>\n",
       "      <td>Feelings of worthlessness is unfortunately co...</td>\n",
       "      <td>Consider talking to a therapist or counselor t...</td>\n",
       "    </tr>\n",
       "    <tr>\n",
       "      <th>2</th>\n",
       "      <td>I'm going through some things with my feelings...</td>\n",
       "      <td>depression</td>\n",
       "      <td>First thing I'd suggest is getting the sleep y...</td>\n",
       "      <td>I would suggest that you reach out to a menta...</td>\n",
       "    </tr>\n",
       "    <tr>\n",
       "      <th>3</th>\n",
       "      <td>I'm going through some things with my feelings...</td>\n",
       "      <td>depression</td>\n",
       "      <td>Therapy is essential for those that are feelin...</td>\n",
       "      <td>You can also talk to a therapist or a counselo...</td>\n",
       "    </tr>\n",
       "    <tr>\n",
       "      <th>4</th>\n",
       "      <td>I'm going through some things with my feelings...</td>\n",
       "      <td>depression</td>\n",
       "      <td>I first want to let you know that you are not ...</td>\n",
       "      <td>NaN</td>\n",
       "    </tr>\n",
       "  </tbody>\n",
       "</table>\n",
       "</div>"
      ],
      "text/plain": [
       "                                        questionText       topic  \\\n",
       "0  I'm going through some things with my feelings...  depression   \n",
       "1  I'm going through some things with my feelings...  depression   \n",
       "2  I'm going through some things with my feelings...  depression   \n",
       "3  I'm going through some things with my feelings...  depression   \n",
       "4  I'm going through some things with my feelings...  depression   \n",
       "\n",
       "                                          answerText  \\\n",
       "0  If everyone thinks you're worthless, then mayb...   \n",
       "1   Feelings of worthlessness is unfortunately co...   \n",
       "2  First thing I'd suggest is getting the sleep y...   \n",
       "3  Therapy is essential for those that are feelin...   \n",
       "4  I first want to let you know that you are not ...   \n",
       "\n",
       "                                             context  \n",
       "0  - a friend, family member, or a mental health ...  \n",
       "1  Consider talking to a therapist or counselor t...  \n",
       "2   I would suggest that you reach out to a menta...  \n",
       "3  You can also talk to a therapist or a counselo...  \n",
       "4                                                NaN  "
      ]
     },
     "execution_count": 69,
     "metadata": {},
     "output_type": "execute_result"
    }
   ],
   "source": [
    "df_with_blank_context.head()"
   ]
  },
  {
   "cell_type": "code",
   "execution_count": null,
   "id": "07b5831c-9168-4ca2-9077-1b1b676abc46",
   "metadata": {
    "id": "07b5831c-9168-4ca2-9077-1b1b676abc46",
    "outputId": "ac7a39b5-b431-47bf-d829-7ec8203c9b88",
    "tags": []
   },
   "outputs": [
    {
     "data": {
      "text/plain": [
       "questionText    2117\n",
       "topic           2117\n",
       "answerText      2117\n",
       "context          824\n",
       "dtype: int64"
      ]
     },
     "execution_count": 78,
     "metadata": {},
     "output_type": "execute_result"
    }
   ],
   "source": [
    "df_with_blank_context.count()"
   ]
  },
  {
   "cell_type": "code",
   "execution_count": null,
   "id": "87dc72bf-4705-4715-9838-4b45b5709275",
   "metadata": {
    "id": "87dc72bf-4705-4715-9838-4b45b5709275",
    "tags": []
   },
   "outputs": [],
   "source": [
    "topics = df_with_blank_context.topic.unique()"
   ]
  },
  {
   "cell_type": "code",
   "execution_count": null,
   "id": "62c560a9-e360-4795-8a49-a128788e226b",
   "metadata": {
    "id": "62c560a9-e360-4795-8a49-a128788e226b",
    "outputId": "7e7cb0d9-1d2a-40a5-c47b-fb6c9a35ec56",
    "tags": []
   },
   "outputs": [
    {
     "name": "stdout",
     "output_type": "stream",
     "text": [
      "24\n"
     ]
    }
   ],
   "source": [
    "print(df_with_blank_context.topic.str.len().max())"
   ]
  },
  {
   "cell_type": "code",
   "execution_count": null,
   "id": "832d8db5-e30a-4027-8db6-98be8e6a8e5b",
   "metadata": {
    "id": "832d8db5-e30a-4027-8db6-98be8e6a8e5b",
    "outputId": "6ced5a38-5e0a-4af8-e49b-2cbbab28a529"
   },
   "outputs": [
    {
     "data": {
      "text/html": [
       "<div>\n",
       "<style scoped>\n",
       "    .dataframe tbody tr th:only-of-type {\n",
       "        vertical-align: middle;\n",
       "    }\n",
       "\n",
       "    .dataframe tbody tr th {\n",
       "        vertical-align: top;\n",
       "    }\n",
       "\n",
       "    .dataframe thead th {\n",
       "        text-align: right;\n",
       "    }\n",
       "</style>\n",
       "<table border=\"1\" class=\"dataframe\">\n",
       "  <thead>\n",
       "    <tr style=\"text-align: right;\">\n",
       "      <th></th>\n",
       "      <th>questionText</th>\n",
       "      <th>topic</th>\n",
       "      <th>answerText</th>\n",
       "      <th>context</th>\n",
       "    </tr>\n",
       "  </thead>\n",
       "  <tbody>\n",
       "    <tr>\n",
       "      <th>0</th>\n",
       "      <td>I'm going through some things with my feelings...</td>\n",
       "      <td>depression</td>\n",
       "      <td>If everyone thinks you're worthless, then mayb...</td>\n",
       "      <td>- a friend, family member, or a mental health ...</td>\n",
       "    </tr>\n",
       "    <tr>\n",
       "      <th>1</th>\n",
       "      <td>I'm going through some things with my feelings...</td>\n",
       "      <td>depression</td>\n",
       "      <td>Feelings of worthlessness is unfortunately co...</td>\n",
       "      <td>Consider talking to a therapist or counselor t...</td>\n",
       "    </tr>\n",
       "    <tr>\n",
       "      <th>2</th>\n",
       "      <td>I'm going through some things with my feelings...</td>\n",
       "      <td>depression</td>\n",
       "      <td>First thing I'd suggest is getting the sleep y...</td>\n",
       "      <td>I would suggest that you reach out to a menta...</td>\n",
       "    </tr>\n",
       "    <tr>\n",
       "      <th>3</th>\n",
       "      <td>I'm going through some things with my feelings...</td>\n",
       "      <td>depression</td>\n",
       "      <td>Therapy is essential for those that are feelin...</td>\n",
       "      <td>You can also talk to a therapist or a counselo...</td>\n",
       "    </tr>\n",
       "    <tr>\n",
       "      <th>4</th>\n",
       "      <td>I'm going through some things with my feelings...</td>\n",
       "      <td>depression</td>\n",
       "      <td>I first want to let you know that you are not ...</td>\n",
       "      <td>NaN</td>\n",
       "    </tr>\n",
       "  </tbody>\n",
       "</table>\n",
       "</div>"
      ],
      "text/plain": [
       "                                        questionText       topic  \\\n",
       "0  I'm going through some things with my feelings...  depression   \n",
       "1  I'm going through some things with my feelings...  depression   \n",
       "2  I'm going through some things with my feelings...  depression   \n",
       "3  I'm going through some things with my feelings...  depression   \n",
       "4  I'm going through some things with my feelings...  depression   \n",
       "\n",
       "                                          answerText  \\\n",
       "0  If everyone thinks you're worthless, then mayb...   \n",
       "1   Feelings of worthlessness is unfortunately co...   \n",
       "2  First thing I'd suggest is getting the sleep y...   \n",
       "3  Therapy is essential for those that are feelin...   \n",
       "4  I first want to let you know that you are not ...   \n",
       "\n",
       "                                             context  \n",
       "0  - a friend, family member, or a mental health ...  \n",
       "1  Consider talking to a therapist or counselor t...  \n",
       "2   I would suggest that you reach out to a menta...  \n",
       "3  You can also talk to a therapist or a counselo...  \n",
       "4                                                NaN  "
      ]
     },
     "execution_count": 74,
     "metadata": {},
     "output_type": "execute_result"
    }
   ],
   "source": [
    "df_with_blank_context.head()"
   ]
  },
  {
   "cell_type": "code",
   "execution_count": null,
   "id": "0dbe5b87-5ed0-4e31-a687-81b3c69ad0ca",
   "metadata": {
    "id": "0dbe5b87-5ed0-4e31-a687-81b3c69ad0ca",
    "outputId": "80b86d8a-68e0-4f92-f435-eb540930c0f8",
    "tags": []
   },
   "outputs": [
    {
     "data": {
      "text/plain": [
       "questionText    2117\n",
       "topic           2117\n",
       "answerText      2117\n",
       "context          824\n",
       "dtype: int64"
      ]
     },
     "execution_count": 67,
     "metadata": {},
     "output_type": "execute_result"
    }
   ],
   "source": [
    "df_with_blank_context.count()"
   ]
  },
  {
   "cell_type": "code",
   "execution_count": null,
   "id": "cb2a666f-538a-448e-968f-126504e2764f",
   "metadata": {
    "id": "cb2a666f-538a-448e-968f-126504e2764f",
    "outputId": "6e65cf91-4dc2-47f6-d4ed-4eef69bf7675",
    "tags": []
   },
   "outputs": [
    {
     "data": {
      "text/plain": [
       "nan"
      ]
     },
     "execution_count": 85,
     "metadata": {},
     "output_type": "execute_result"
    }
   ],
   "source": [
    "df_with_blank_context.iloc[4]['context']"
   ]
  },
  {
   "cell_type": "code",
   "execution_count": null,
   "id": "06a1630a-d88d-4d35-b7c2-250f37f16387",
   "metadata": {
    "id": "06a1630a-d88d-4d35-b7c2-250f37f16387",
    "tags": []
   },
   "outputs": [],
   "source": [
    "index_and_context_added_from = {}\n",
    "for index, row in df_with_blank_context.iterrows():\n",
    "    if(pd.isna(row['context'])):\n",
    "        # print(index);\n",
    "        previous = df_with_blank_context.iloc[index-1]['context']\n",
    "        next_context = df_with_blank_context.iloc[index+1]['context']\n",
    "        second_previous = df_with_blank_context.iloc[index-2]['context']\n",
    "        second_next = df_with_blank_context.iloc[index+2]['context']\n",
    "        if df_with_blank_context.iloc[index-1]['topic'] == df_with_blank_context.iloc[index]['topic'] and pd.notna(previous):\n",
    "            df_with_blank_context.at[index, 'context'] = previous\n",
    "            index_and_context_added_from[index] = index-1\n",
    "        elif df_with_blank_context.iloc[index+1]['topic'] == df_with_blank_context.iloc[index]['topic'] and pd.notna(next_context):\n",
    "            df_with_blank_context.at[index, 'context'] = next_context\n",
    "            index_and_context_added_from[index] = index+1\n",
    "        if df_with_blank_context.iloc[index-2]['topic'] == df_with_blank_context.iloc[index]['topic'] and pd.notna(second_previous):\n",
    "            df_with_blank_context.at[index, 'context'] = second_previous\n",
    "            index_and_context_added_from[index] = index-2\n",
    "        elif df_with_blank_context.iloc[index+2]['topic'] == df_with_blank_context.iloc[index]['topic'] and pd.notna(second_next):\n",
    "            df_with_blank_context.at[index, 'context'] = second_next\n",
    "            index_and_context_added_from[index] = index+2\n"
   ]
  },
  {
   "cell_type": "code",
   "execution_count": null,
   "id": "bc06def8-7128-4e49-afa5-34dd5e547b80",
   "metadata": {
    "id": "bc06def8-7128-4e49-afa5-34dd5e547b80",
    "outputId": "12979c87-4179-4d63-9aed-bc7c73ee2e55",
    "tags": []
   },
   "outputs": [
    {
     "data": {
      "text/html": [
       "<div>\n",
       "<style scoped>\n",
       "    .dataframe tbody tr th:only-of-type {\n",
       "        vertical-align: middle;\n",
       "    }\n",
       "\n",
       "    .dataframe tbody tr th {\n",
       "        vertical-align: top;\n",
       "    }\n",
       "\n",
       "    .dataframe thead th {\n",
       "        text-align: right;\n",
       "    }\n",
       "</style>\n",
       "<table border=\"1\" class=\"dataframe\">\n",
       "  <thead>\n",
       "    <tr style=\"text-align: right;\">\n",
       "      <th></th>\n",
       "      <th>questionText</th>\n",
       "      <th>topic</th>\n",
       "      <th>answerText</th>\n",
       "      <th>context</th>\n",
       "    </tr>\n",
       "  </thead>\n",
       "  <tbody>\n",
       "    <tr>\n",
       "      <th>0</th>\n",
       "      <td>I'm going through some things with my feelings...</td>\n",
       "      <td>depression</td>\n",
       "      <td>If everyone thinks you're worthless, then mayb...</td>\n",
       "      <td>- a friend, family member, or a mental health ...</td>\n",
       "    </tr>\n",
       "    <tr>\n",
       "      <th>1</th>\n",
       "      <td>I'm going through some things with my feelings...</td>\n",
       "      <td>depression</td>\n",
       "      <td>Feelings of worthlessness is unfortunately co...</td>\n",
       "      <td>Consider talking to a therapist or counselor t...</td>\n",
       "    </tr>\n",
       "    <tr>\n",
       "      <th>2</th>\n",
       "      <td>I'm going through some things with my feelings...</td>\n",
       "      <td>depression</td>\n",
       "      <td>First thing I'd suggest is getting the sleep y...</td>\n",
       "      <td>I would suggest that you reach out to a menta...</td>\n",
       "    </tr>\n",
       "    <tr>\n",
       "      <th>3</th>\n",
       "      <td>I'm going through some things with my feelings...</td>\n",
       "      <td>depression</td>\n",
       "      <td>Therapy is essential for those that are feelin...</td>\n",
       "      <td>You can also talk to a therapist or a counselo...</td>\n",
       "    </tr>\n",
       "    <tr>\n",
       "      <th>4</th>\n",
       "      <td>I'm going through some things with my feelings...</td>\n",
       "      <td>depression</td>\n",
       "      <td>I first want to let you know that you are not ...</td>\n",
       "      <td>You can also talk to a therapist or a counselo...</td>\n",
       "    </tr>\n",
       "  </tbody>\n",
       "</table>\n",
       "</div>"
      ],
      "text/plain": [
       "                                        questionText       topic  \\\n",
       "0  I'm going through some things with my feelings...  depression   \n",
       "1  I'm going through some things with my feelings...  depression   \n",
       "2  I'm going through some things with my feelings...  depression   \n",
       "3  I'm going through some things with my feelings...  depression   \n",
       "4  I'm going through some things with my feelings...  depression   \n",
       "\n",
       "                                          answerText  \\\n",
       "0  If everyone thinks you're worthless, then mayb...   \n",
       "1   Feelings of worthlessness is unfortunately co...   \n",
       "2  First thing I'd suggest is getting the sleep y...   \n",
       "3  Therapy is essential for those that are feelin...   \n",
       "4  I first want to let you know that you are not ...   \n",
       "\n",
       "                                             context  \n",
       "0  - a friend, family member, or a mental health ...  \n",
       "1  Consider talking to a therapist or counselor t...  \n",
       "2   I would suggest that you reach out to a menta...  \n",
       "3  You can also talk to a therapist or a counselo...  \n",
       "4  You can also talk to a therapist or a counselo...  "
      ]
     },
     "execution_count": 93,
     "metadata": {},
     "output_type": "execute_result"
    }
   ],
   "source": [
    "df_with_blank_context.head()"
   ]
  },
  {
   "cell_type": "code",
   "execution_count": null,
   "id": "7eec4230-136a-4585-81eb-cd9fdea78612",
   "metadata": {
    "id": "7eec4230-136a-4585-81eb-cd9fdea78612",
    "outputId": "ba5de454-2f90-45b4-c219-c37672855fa5",
    "tags": []
   },
   "outputs": [
    {
     "data": {
      "text/html": [
       "<div>\n",
       "<style scoped>\n",
       "    .dataframe tbody tr th:only-of-type {\n",
       "        vertical-align: middle;\n",
       "    }\n",
       "\n",
       "    .dataframe tbody tr th {\n",
       "        vertical-align: top;\n",
       "    }\n",
       "\n",
       "    .dataframe thead th {\n",
       "        text-align: right;\n",
       "    }\n",
       "</style>\n",
       "<table border=\"1\" class=\"dataframe\">\n",
       "  <thead>\n",
       "    <tr style=\"text-align: right;\">\n",
       "      <th></th>\n",
       "      <th>questionText</th>\n",
       "      <th>topic</th>\n",
       "      <th>answerText</th>\n",
       "      <th>context</th>\n",
       "    </tr>\n",
       "  </thead>\n",
       "  <tbody>\n",
       "    <tr>\n",
       "      <th>2112</th>\n",
       "      <td>After first meeting the client, what is the pr...</td>\n",
       "      <td>counseling-fundamentals</td>\n",
       "      <td>There are probably no two therapists alike bec...</td>\n",
       "      <td>So I might ask questions to get to know the cl...</td>\n",
       "    </tr>\n",
       "    <tr>\n",
       "      <th>2113</th>\n",
       "      <td>After first meeting the client, what is the pr...</td>\n",
       "      <td>counseling-fundamentals</td>\n",
       "      <td>Each counselor may have a different process, s...</td>\n",
       "      <td>So I might ask questions to get to know the cl...</td>\n",
       "    </tr>\n",
       "    <tr>\n",
       "      <th>2114</th>\n",
       "      <td>After first meeting the client, what is the pr...</td>\n",
       "      <td>counseling-fundamentals</td>\n",
       "      <td>After meeting a client, many Counselors will a...</td>\n",
       "      <td>The therapist will then use a variety of techn...</td>\n",
       "    </tr>\n",
       "    <tr>\n",
       "      <th>2115</th>\n",
       "      <td>After first meeting the client, what is the pr...</td>\n",
       "      <td>counseling-fundamentals</td>\n",
       "      <td>A good therapist will discuss what brought you...</td>\n",
       "      <td>The therapist will then use a variety of techn...</td>\n",
       "    </tr>\n",
       "    <tr>\n",
       "      <th>2116</th>\n",
       "      <td>After first meeting the client, what is the pr...</td>\n",
       "      <td>counseling-fundamentals</td>\n",
       "      <td>Great question which I imagine many other peop...</td>\n",
       "      <td>You can still love her from afar, but it's tim...</td>\n",
       "    </tr>\n",
       "  </tbody>\n",
       "</table>\n",
       "</div>"
      ],
      "text/plain": [
       "                                           questionText  \\\n",
       "2112  After first meeting the client, what is the pr...   \n",
       "2113  After first meeting the client, what is the pr...   \n",
       "2114  After first meeting the client, what is the pr...   \n",
       "2115  After first meeting the client, what is the pr...   \n",
       "2116  After first meeting the client, what is the pr...   \n",
       "\n",
       "                        topic  \\\n",
       "2112  counseling-fundamentals   \n",
       "2113  counseling-fundamentals   \n",
       "2114  counseling-fundamentals   \n",
       "2115  counseling-fundamentals   \n",
       "2116  counseling-fundamentals   \n",
       "\n",
       "                                             answerText  \\\n",
       "2112  There are probably no two therapists alike bec...   \n",
       "2113  Each counselor may have a different process, s...   \n",
       "2114  After meeting a client, many Counselors will a...   \n",
       "2115  A good therapist will discuss what brought you...   \n",
       "2116  Great question which I imagine many other peop...   \n",
       "\n",
       "                                                context  \n",
       "2112  So I might ask questions to get to know the cl...  \n",
       "2113  So I might ask questions to get to know the cl...  \n",
       "2114  The therapist will then use a variety of techn...  \n",
       "2115  The therapist will then use a variety of techn...  \n",
       "2116  You can still love her from afar, but it's tim...  "
      ]
     },
     "execution_count": 94,
     "metadata": {},
     "output_type": "execute_result"
    }
   ],
   "source": [
    "df_with_blank_context.tail()"
   ]
  },
  {
   "cell_type": "code",
   "execution_count": null,
   "id": "36e648cf-c687-44e3-9bc8-de9738623a62",
   "metadata": {
    "id": "36e648cf-c687-44e3-9bc8-de9738623a62",
    "tags": []
   },
   "outputs": [],
   "source": [
    "#Export cleaned CSV\n",
    "df_with_blank_context.to_csv(\"dataset_backup/final_dataset_with_context_filled.csv\")"
   ]
  },
  {
   "cell_type": "code",
   "execution_count": null,
   "id": "0a35f065-518a-4deb-8076-a008843f04ab",
   "metadata": {
    "id": "0a35f065-518a-4deb-8076-a008843f04ab",
    "outputId": "bbf68c75-880d-4f9f-bbc9-c35b52fb85d8",
    "tags": []
   },
   "outputs": [
    {
     "data": {
      "text/plain": [
       "questionText    2117\n",
       "topic           2117\n",
       "answerText      2117\n",
       "context         2110\n",
       "dtype: int64"
      ]
     },
     "execution_count": 101,
     "metadata": {},
     "output_type": "execute_result"
    }
   ],
   "source": [
    "df_with_blank_context.count()"
   ]
  }
 ],
 "metadata": {
  "colab": {
   "provenance": []
  },
  "kernelspec": {
   "display_name": "Python 3 (ipykernel)",
   "language": "python",
   "name": "python3"
  },
  "language_info": {
   "codemirror_mode": {
    "name": "ipython",
    "version": 3
   },
   "file_extension": ".py",
   "mimetype": "text/x-python",
   "name": "python",
   "nbconvert_exporter": "python",
   "pygments_lexer": "ipython3",
   "version": "3.10.9"
  }
 },
 "nbformat": 4,
 "nbformat_minor": 5
}
